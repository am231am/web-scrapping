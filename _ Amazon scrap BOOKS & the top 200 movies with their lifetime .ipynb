{
 "cells": [
  {
   "cell_type": "code",
   "execution_count": 1,
   "id": "45509d1c",
   "metadata": {},
   "outputs": [],
   "source": [
    "from selenium import webdriver\n",
    "from selenium.webdriver.common.by import By\n",
    "from selenium.common.exceptions import NoSuchElementException\n",
    "import time\n",
    "import pandas as pd"
   ]
  },
  {
   "cell_type": "code",
   "execution_count": 2,
   "id": "30896df6",
   "metadata": {},
   "outputs": [
    {
     "name": "stderr",
     "output_type": "stream",
     "text": [
      "The chromedriver version (119.0.6045.105) detected in PATH at C:\\Users\\Dell\\Data pereperation\\chromedriver.exe might not be compatible with the detected chrome version (120.0.6099.72); currently, chromedriver 120.0.6099.71 is recommended for chrome 120.*, so it is advised to delete the driver in PATH and retry\n"
     ]
    }
   ],
   "source": [
    "driver=webdriver.Chrome()"
   ]
  },
  {
   "cell_type": "code",
   "execution_count": 24,
   "id": "4bd023b2",
   "metadata": {},
   "outputs": [],
   "source": [
    "page_url=\"https://www.amazon.in/gp/bestsellers/books/\"\n",
    "driver.get(page_url)"
   ]
  },
  {
   "cell_type": "code",
   "execution_count": 27,
   "id": "6d5aae55",
   "metadata": {},
   "outputs": [],
   "source": [
    "Height=0\n",
    "for i in range(13):\n",
    "    Height=Height+500\n",
    "    driver.execute_script(f\"window.scrollTo(0,{Height})\")\n",
    "    time.sleep(1)"
   ]
  },
  {
   "cell_type": "code",
   "execution_count": 28,
   "id": "9dc83bf2",
   "metadata": {},
   "outputs": [
    {
     "data": {
      "text/plain": [
       "50"
      ]
     },
     "execution_count": 28,
     "metadata": {},
     "output_type": "execute_result"
    }
   ],
   "source": [
    "products_contanier=driver.find_elements(By.XPATH,\"//div[@class='_cDEzb_iveVideoWrapper_JJ34T']\")\n",
    "len(products_contanier)"
   ]
  },
  {
   "cell_type": "code",
   "execution_count": 29,
   "id": "21331dc5",
   "metadata": {},
   "outputs": [],
   "source": [
    "products_title=[]\n",
    "product_price=[]\n",
    "frist_product_title=products_contanier[0].find_element(By.XPATH,\"//span/div[@class='_cDEzb_p13n-sc-css-line-clamp-2_EWgCb']\").text\n",
    "frist_product_price=products_contanier[0].find_element(By.XPATH,\"//span/span[@class='_cDEzb_p13n-sc-price_3mJ9Z']\").text\n",
    "products_title.append(frist_product_title)\n",
    "product_price.append(frist_product_price)"
   ]
  },
  {
   "cell_type": "code",
   "execution_count": 30,
   "id": "0928387e",
   "metadata": {},
   "outputs": [
    {
     "data": {
      "text/plain": [
       "['Breakout Trading Made Easy: Maximize Your Profits with Simple Price Action Strategies']"
      ]
     },
     "execution_count": 30,
     "metadata": {},
     "output_type": "execute_result"
    }
   ],
   "source": [
    "products_title"
   ]
  },
  {
   "cell_type": "code",
   "execution_count": 31,
   "id": "580cfdb1",
   "metadata": {},
   "outputs": [],
   "source": [
    "for i in range(len(products_contanier)):\n",
    "    if i > 0:\n",
    "        title_element = products_contanier[i].find_element(By.XPATH, \".//span/div[@class='_cDEzb_p13n-sc-css-line-clamp-1_1Fn1y']\")\n",
    "        price_element = products_contanier[i].find_element(By.XPATH, \".//span/span[@class='_cDEzb_p13n-sc-price_3mJ9Z']\")\n",
    "\n",
    "        products_title.append(title_element.text)\n",
    "        product_price.append(price_element.text)"
   ]
  },
  {
   "cell_type": "code",
   "execution_count": 32,
   "id": "261d5358",
   "metadata": {},
   "outputs": [
    {
     "data": {
      "text/plain": [
       "50"
      ]
     },
     "execution_count": 32,
     "metadata": {},
     "output_type": "execute_result"
    }
   ],
   "source": [
    "len(product_price)"
   ]
  },
  {
   "cell_type": "code",
   "execution_count": 33,
   "id": "fa777701",
   "metadata": {},
   "outputs": [
    {
     "data": {
      "text/plain": [
       "50"
      ]
     },
     "execution_count": 33,
     "metadata": {},
     "output_type": "execute_result"
    }
   ],
   "source": [
    "len(products_title)"
   ]
  },
  {
   "cell_type": "code",
   "execution_count": 34,
   "id": "1b37b484",
   "metadata": {},
   "outputs": [
    {
     "data": {
      "text/plain": [
       "['Breakout Trading Made Easy: Maximize Your Profits with Simple Price Action Strategies',\n",
       " 'Atomic Habits',\n",
       " 'My First Library: Boxset of 10 Board Books for Kids',\n",
       " \"Don't Believe Everything You Think (English)\",\n",
       " 'Oswaal CBSE Sample Question Papers Class 10 Science Book (For Board Exams 2024) | 2023-24',\n",
       " 'Oswaal CBSE Sample Question Papers Class 10 Mathematics Standard Book (For Board Exams 2024) | 2023-24',\n",
       " 'The Psychology Of Money',\n",
       " 'The Power of Your Subconscious Mind',\n",
       " \"Breaking the Mould : Reimagining India's Economic Future\",\n",
       " 'Ikigai',\n",
       " 'My First Book of Patterns Pencil Control: Patterns Practice book for kids (Pattern Writing)',\n",
       " 'Brain Activity Book for Kids - 200+ Activities for Age 3+',\n",
       " 'Rich Dad Poor Dad: 25th Anniversary Edit',\n",
       " 'SSC GD (COMBO) MATH +REASONING+GK+HINDI',\n",
       " 'Same As Ever: Timeless Lessons on Risk, Opportunity and Living a Good Life',\n",
       " 'The Magic (Tamil)',\n",
       " 'Colouring Books Boxset: Pack of 12 Copy Colour Books For Children',\n",
       " \"Grandma's Bag of Stories: Collection of 20+ Illustrated short stories, traditional Indian folk tales for all ages for children of all ages by Sudha Murty [Paperback] Sudha Murty\",\n",
       " 'Oswaal CBSE Sample Question Papers Class 10 Social Science Book (For Board Exams 2024) | 2023-24',\n",
       " 'BRAHMASTRA Complete Maths Multicolored Formula Book Second Edition BILINGUAL by Aditya Ranjan Sir',\n",
       " 'PW Physics Med Easy Notes | Notes, Formulas, Mnemonics, Tips & Tricks for NEET/JEE & Board Exams | MR Sir Physics Handwritten Notes',\n",
       " 'Think And Grow Rich [Original Edition (Complete), PREMIUM PAPERBACK]',\n",
       " 'Sank Magic Practice Copybook, (4 BOOK + 10 REFILL+ 1 Pen +1 Grip) Number Tracing Book for Preschoolers with Pen, Magic Calligraphy Copybook Set Practical Reusable Writing Tool Simple Hand Lettering',\n",
       " 'Meditations',\n",
       " 'You Can',\n",
       " 'Math Concept King - All Formulas and Theorum Latest 2023 Edition | Gagan Pratap Sir | Champion Publication',\n",
       " 'Diary Of A Wimpy Kid: No Brainer (Book 18)',\n",
       " 'Do It Today: Overcome procrastination, improve productivity and achieve more meaningful things [Paperback] Foroux, Darius',\n",
       " 'How to Win Friends and Influence People',\n",
       " 'Moral Story Books for Kids (Illustrated) - English Short Stories with Colourful Pictures - Bedtime Children Story Book - 3 Years to 6 Years Old Children - Read Aloud to Infants, Toddlers (Set of 10 Books)',\n",
       " 'Welcome to Paradise',\n",
       " 'THE 48 LAWS OF POWER',\n",
       " 'The Power of Your Subconscious Mind',\n",
       " 'World’s Greatest Books For Personal Growth & Wealth (Set of 4 Books) : Perfect Motivational Gift Set',\n",
       " 'Animals Tales From Panchtantra: Timeless Stories for Children From Ancient India',\n",
       " 'Educart CBSE Class 10 Sample Papers Bundle - Science, Maths, Social Science & English 2023-24 (Introducing Revision Maps and Past Year Papers) 2024',\n",
       " 'Trading Chart Pattern Book In Hindi | Includes Candlestick & Breakout Patterns | Indicators & Risk Management |',\n",
       " 'My First Mythology Tale (Illustrated) (Set of 5 Books) - Mahabharata, Krishna, Hanuman, Ganesha, Ramayana - Story Book for Kids - English Short Stories with Colourful Pictures - Read Aloud to Infants, Toddlers',\n",
       " 'Oswaal CBSE Sample Question Papers Class 10 English Language & Literature Book (For 2024 Exam)',\n",
       " 'THE SILENT PATIENT [Paperback] Michaelides, Alex',\n",
       " 'Oswaal CBSE Class 10 Science Question Bank (For 2024 Board Exams)',\n",
       " '201 Brain Booster Activity Book - Fun Activities and Exercises For Children: Tracing & Pattern, Colors & Shapes, Maze',\n",
       " 'CGL Practice King 3000+ TCS MCQ | Chapter Wise | Gagan Pratap Sir | Champion Publication',\n",
       " \"Tuesdays With Morrie: An old man, a young man, and life's greatest lesson [Paperback] Albom, Mitch\",\n",
       " 'Shlokas and Mantras - Activity Book For Kids - Illustrated Book With Engaging Activities and Sticker Sheets',\n",
       " 'Oxford Student Atlas for India, Fourth Edition - Useful for Competitive Exams',\n",
       " 'CBSE 20 Combined Sample Question papers Class 10 (For Board Exam 2024) Books Science, Mathematics Standard, Social Science, English Language and Literature',\n",
       " 'The 5 AM Club',\n",
       " 'Writing Practice Boxset: Pack of 4 Books (Writing Fun: Write And Practice Capital Letters, Small Letters, Patterns and Numbers 1 to 10)',\n",
       " 'Shrimad Bhagwat Geeta Yatharoop']"
      ]
     },
     "execution_count": 34,
     "metadata": {},
     "output_type": "execute_result"
    }
   ],
   "source": [
    "products_title"
   ]
  },
  {
   "cell_type": "code",
   "execution_count": 35,
   "id": "8b4bc654",
   "metadata": {},
   "outputs": [
    {
     "data": {
      "text/plain": [
       "['₹299.00',\n",
       " '₹544.00',\n",
       " '₹399.00',\n",
       " '₹187.00',\n",
       " '₹301.00',\n",
       " '₹294.00',\n",
       " '₹308.00',\n",
       " '₹115.00',\n",
       " '₹623.00',\n",
       " '₹346.00',\n",
       " '₹89.00',\n",
       " '₹99.00',\n",
       " '₹436.00',\n",
       " '₹445.00',\n",
       " '₹323.00',\n",
       " '₹346.00',\n",
       " '₹329.00',\n",
       " '₹175.00',\n",
       " '₹302.00',\n",
       " '₹180.00',\n",
       " '₹409.00',\n",
       " '₹99.00',\n",
       " '₹120.00',\n",
       " '₹99.00',\n",
       " '₹99.00',\n",
       " '₹149.00',\n",
       " '₹409.00',\n",
       " '₹144.00',\n",
       " '₹99.00',\n",
       " '₹221.00',\n",
       " '₹286.00',\n",
       " '₹603.00',\n",
       " '₹99.00',\n",
       " '₹339.00',\n",
       " '₹189.00',\n",
       " '₹1,165.00',\n",
       " '₹286.00',\n",
       " '₹176.00',\n",
       " '₹243.00',\n",
       " '₹218.00',\n",
       " '₹498.00',\n",
       " '₹109.00',\n",
       " '₹279.00',\n",
       " '₹216.00',\n",
       " '₹149.00',\n",
       " '₹240.00',\n",
       " '₹336.00',\n",
       " '₹257.00',\n",
       " '₹199.00',\n",
       " '₹225.00']"
      ]
     },
     "execution_count": 35,
     "metadata": {},
     "output_type": "execute_result"
    }
   ],
   "source": [
    "product_price"
   ]
  },
  {
   "cell_type": "code",
   "execution_count": 36,
   "id": "c2e2fdd8",
   "metadata": {},
   "outputs": [],
   "source": [
    "data={\n",
    "    'book_title':products_title\n",
    "    ,'book_price':product_price\n",
    "}\n",
    "df=pd.DataFrame(data)"
   ]
  },
  {
   "cell_type": "code",
   "execution_count": 37,
   "id": "e64683f9",
   "metadata": {},
   "outputs": [
    {
     "data": {
      "text/html": [
       "<div>\n",
       "<style scoped>\n",
       "    .dataframe tbody tr th:only-of-type {\n",
       "        vertical-align: middle;\n",
       "    }\n",
       "\n",
       "    .dataframe tbody tr th {\n",
       "        vertical-align: top;\n",
       "    }\n",
       "\n",
       "    .dataframe thead th {\n",
       "        text-align: right;\n",
       "    }\n",
       "</style>\n",
       "<table border=\"1\" class=\"dataframe\">\n",
       "  <thead>\n",
       "    <tr style=\"text-align: right;\">\n",
       "      <th></th>\n",
       "      <th>book_title</th>\n",
       "      <th>book_price</th>\n",
       "    </tr>\n",
       "  </thead>\n",
       "  <tbody>\n",
       "    <tr>\n",
       "      <th>0</th>\n",
       "      <td>Breakout Trading Made Easy: Maximize Your Prof...</td>\n",
       "      <td>₹299.00</td>\n",
       "    </tr>\n",
       "    <tr>\n",
       "      <th>1</th>\n",
       "      <td>Atomic Habits</td>\n",
       "      <td>₹544.00</td>\n",
       "    </tr>\n",
       "    <tr>\n",
       "      <th>2</th>\n",
       "      <td>My First Library: Boxset of 10 Board Books for...</td>\n",
       "      <td>₹399.00</td>\n",
       "    </tr>\n",
       "    <tr>\n",
       "      <th>3</th>\n",
       "      <td>Don't Believe Everything You Think (English)</td>\n",
       "      <td>₹187.00</td>\n",
       "    </tr>\n",
       "    <tr>\n",
       "      <th>4</th>\n",
       "      <td>Oswaal CBSE Sample Question Papers Class 10 Sc...</td>\n",
       "      <td>₹301.00</td>\n",
       "    </tr>\n",
       "    <tr>\n",
       "      <th>5</th>\n",
       "      <td>Oswaal CBSE Sample Question Papers Class 10 Ma...</td>\n",
       "      <td>₹294.00</td>\n",
       "    </tr>\n",
       "    <tr>\n",
       "      <th>6</th>\n",
       "      <td>The Psychology Of Money</td>\n",
       "      <td>₹308.00</td>\n",
       "    </tr>\n",
       "    <tr>\n",
       "      <th>7</th>\n",
       "      <td>The Power of Your Subconscious Mind</td>\n",
       "      <td>₹115.00</td>\n",
       "    </tr>\n",
       "    <tr>\n",
       "      <th>8</th>\n",
       "      <td>Breaking the Mould : Reimagining India's Econo...</td>\n",
       "      <td>₹623.00</td>\n",
       "    </tr>\n",
       "    <tr>\n",
       "      <th>9</th>\n",
       "      <td>Ikigai</td>\n",
       "      <td>₹346.00</td>\n",
       "    </tr>\n",
       "    <tr>\n",
       "      <th>10</th>\n",
       "      <td>My First Book of Patterns Pencil Control: Patt...</td>\n",
       "      <td>₹89.00</td>\n",
       "    </tr>\n",
       "    <tr>\n",
       "      <th>11</th>\n",
       "      <td>Brain Activity Book for Kids - 200+ Activities...</td>\n",
       "      <td>₹99.00</td>\n",
       "    </tr>\n",
       "    <tr>\n",
       "      <th>12</th>\n",
       "      <td>Rich Dad Poor Dad: 25th Anniversary Edit</td>\n",
       "      <td>₹436.00</td>\n",
       "    </tr>\n",
       "    <tr>\n",
       "      <th>13</th>\n",
       "      <td>SSC GD (COMBO) MATH +REASONING+GK+HINDI</td>\n",
       "      <td>₹445.00</td>\n",
       "    </tr>\n",
       "    <tr>\n",
       "      <th>14</th>\n",
       "      <td>Same As Ever: Timeless Lessons on Risk, Opport...</td>\n",
       "      <td>₹323.00</td>\n",
       "    </tr>\n",
       "    <tr>\n",
       "      <th>15</th>\n",
       "      <td>The Magic (Tamil)</td>\n",
       "      <td>₹346.00</td>\n",
       "    </tr>\n",
       "    <tr>\n",
       "      <th>16</th>\n",
       "      <td>Colouring Books Boxset: Pack of 12 Copy Colour...</td>\n",
       "      <td>₹329.00</td>\n",
       "    </tr>\n",
       "    <tr>\n",
       "      <th>17</th>\n",
       "      <td>Grandma's Bag of Stories: Collection of 20+ Il...</td>\n",
       "      <td>₹175.00</td>\n",
       "    </tr>\n",
       "    <tr>\n",
       "      <th>18</th>\n",
       "      <td>Oswaal CBSE Sample Question Papers Class 10 So...</td>\n",
       "      <td>₹302.00</td>\n",
       "    </tr>\n",
       "    <tr>\n",
       "      <th>19</th>\n",
       "      <td>BRAHMASTRA Complete Maths Multicolored Formula...</td>\n",
       "      <td>₹180.00</td>\n",
       "    </tr>\n",
       "    <tr>\n",
       "      <th>20</th>\n",
       "      <td>PW Physics Med Easy Notes | Notes, Formulas, M...</td>\n",
       "      <td>₹409.00</td>\n",
       "    </tr>\n",
       "    <tr>\n",
       "      <th>21</th>\n",
       "      <td>Think And Grow Rich [Original Edition (Complet...</td>\n",
       "      <td>₹99.00</td>\n",
       "    </tr>\n",
       "    <tr>\n",
       "      <th>22</th>\n",
       "      <td>Sank Magic Practice Copybook, (4 BOOK + 10 REF...</td>\n",
       "      <td>₹120.00</td>\n",
       "    </tr>\n",
       "    <tr>\n",
       "      <th>23</th>\n",
       "      <td>Meditations</td>\n",
       "      <td>₹99.00</td>\n",
       "    </tr>\n",
       "    <tr>\n",
       "      <th>24</th>\n",
       "      <td>You Can</td>\n",
       "      <td>₹99.00</td>\n",
       "    </tr>\n",
       "    <tr>\n",
       "      <th>25</th>\n",
       "      <td>Math Concept King - All Formulas and Theorum L...</td>\n",
       "      <td>₹149.00</td>\n",
       "    </tr>\n",
       "    <tr>\n",
       "      <th>26</th>\n",
       "      <td>Diary Of A Wimpy Kid: No Brainer (Book 18)</td>\n",
       "      <td>₹409.00</td>\n",
       "    </tr>\n",
       "    <tr>\n",
       "      <th>27</th>\n",
       "      <td>Do It Today: Overcome procrastination, improve...</td>\n",
       "      <td>₹144.00</td>\n",
       "    </tr>\n",
       "    <tr>\n",
       "      <th>28</th>\n",
       "      <td>How to Win Friends and Influence People</td>\n",
       "      <td>₹99.00</td>\n",
       "    </tr>\n",
       "    <tr>\n",
       "      <th>29</th>\n",
       "      <td>Moral Story Books for Kids (Illustrated) - Eng...</td>\n",
       "      <td>₹221.00</td>\n",
       "    </tr>\n",
       "    <tr>\n",
       "      <th>30</th>\n",
       "      <td>Welcome to Paradise</td>\n",
       "      <td>₹286.00</td>\n",
       "    </tr>\n",
       "    <tr>\n",
       "      <th>31</th>\n",
       "      <td>THE 48 LAWS OF POWER</td>\n",
       "      <td>₹603.00</td>\n",
       "    </tr>\n",
       "    <tr>\n",
       "      <th>32</th>\n",
       "      <td>The Power of Your Subconscious Mind</td>\n",
       "      <td>₹99.00</td>\n",
       "    </tr>\n",
       "    <tr>\n",
       "      <th>33</th>\n",
       "      <td>World’s Greatest Books For Personal Growth &amp; W...</td>\n",
       "      <td>₹339.00</td>\n",
       "    </tr>\n",
       "    <tr>\n",
       "      <th>34</th>\n",
       "      <td>Animals Tales From Panchtantra: Timeless Stori...</td>\n",
       "      <td>₹189.00</td>\n",
       "    </tr>\n",
       "    <tr>\n",
       "      <th>35</th>\n",
       "      <td>Educart CBSE Class 10 Sample Papers Bundle - S...</td>\n",
       "      <td>₹1,165.00</td>\n",
       "    </tr>\n",
       "    <tr>\n",
       "      <th>36</th>\n",
       "      <td>Trading Chart Pattern Book In Hindi | Includes...</td>\n",
       "      <td>₹286.00</td>\n",
       "    </tr>\n",
       "    <tr>\n",
       "      <th>37</th>\n",
       "      <td>My First Mythology Tale (Illustrated) (Set of ...</td>\n",
       "      <td>₹176.00</td>\n",
       "    </tr>\n",
       "    <tr>\n",
       "      <th>38</th>\n",
       "      <td>Oswaal CBSE Sample Question Papers Class 10 En...</td>\n",
       "      <td>₹243.00</td>\n",
       "    </tr>\n",
       "    <tr>\n",
       "      <th>39</th>\n",
       "      <td>THE SILENT PATIENT [Paperback] Michaelides, Alex</td>\n",
       "      <td>₹218.00</td>\n",
       "    </tr>\n",
       "    <tr>\n",
       "      <th>40</th>\n",
       "      <td>Oswaal CBSE Class 10 Science Question Bank (Fo...</td>\n",
       "      <td>₹498.00</td>\n",
       "    </tr>\n",
       "    <tr>\n",
       "      <th>41</th>\n",
       "      <td>201 Brain Booster Activity Book - Fun Activiti...</td>\n",
       "      <td>₹109.00</td>\n",
       "    </tr>\n",
       "    <tr>\n",
       "      <th>42</th>\n",
       "      <td>CGL Practice King 3000+ TCS MCQ | Chapter Wise...</td>\n",
       "      <td>₹279.00</td>\n",
       "    </tr>\n",
       "    <tr>\n",
       "      <th>43</th>\n",
       "      <td>Tuesdays With Morrie: An old man, a young man,...</td>\n",
       "      <td>₹216.00</td>\n",
       "    </tr>\n",
       "    <tr>\n",
       "      <th>44</th>\n",
       "      <td>Shlokas and Mantras - Activity Book For Kids -...</td>\n",
       "      <td>₹149.00</td>\n",
       "    </tr>\n",
       "    <tr>\n",
       "      <th>45</th>\n",
       "      <td>Oxford Student Atlas for India, Fourth Edition...</td>\n",
       "      <td>₹240.00</td>\n",
       "    </tr>\n",
       "    <tr>\n",
       "      <th>46</th>\n",
       "      <td>CBSE 20 Combined Sample Question papers Class ...</td>\n",
       "      <td>₹336.00</td>\n",
       "    </tr>\n",
       "    <tr>\n",
       "      <th>47</th>\n",
       "      <td>The 5 AM Club</td>\n",
       "      <td>₹257.00</td>\n",
       "    </tr>\n",
       "    <tr>\n",
       "      <th>48</th>\n",
       "      <td>Writing Practice Boxset: Pack of 4 Books (Writ...</td>\n",
       "      <td>₹199.00</td>\n",
       "    </tr>\n",
       "    <tr>\n",
       "      <th>49</th>\n",
       "      <td>Shrimad Bhagwat Geeta Yatharoop</td>\n",
       "      <td>₹225.00</td>\n",
       "    </tr>\n",
       "  </tbody>\n",
       "</table>\n",
       "</div>"
      ],
      "text/plain": [
       "                                           book_title book_price\n",
       "0   Breakout Trading Made Easy: Maximize Your Prof...    ₹299.00\n",
       "1                                       Atomic Habits    ₹544.00\n",
       "2   My First Library: Boxset of 10 Board Books for...    ₹399.00\n",
       "3        Don't Believe Everything You Think (English)    ₹187.00\n",
       "4   Oswaal CBSE Sample Question Papers Class 10 Sc...    ₹301.00\n",
       "5   Oswaal CBSE Sample Question Papers Class 10 Ma...    ₹294.00\n",
       "6                             The Psychology Of Money    ₹308.00\n",
       "7                 The Power of Your Subconscious Mind    ₹115.00\n",
       "8   Breaking the Mould : Reimagining India's Econo...    ₹623.00\n",
       "9                                              Ikigai    ₹346.00\n",
       "10  My First Book of Patterns Pencil Control: Patt...     ₹89.00\n",
       "11  Brain Activity Book for Kids - 200+ Activities...     ₹99.00\n",
       "12           Rich Dad Poor Dad: 25th Anniversary Edit    ₹436.00\n",
       "13            SSC GD (COMBO) MATH +REASONING+GK+HINDI    ₹445.00\n",
       "14  Same As Ever: Timeless Lessons on Risk, Opport...    ₹323.00\n",
       "15                                  The Magic (Tamil)    ₹346.00\n",
       "16  Colouring Books Boxset: Pack of 12 Copy Colour...    ₹329.00\n",
       "17  Grandma's Bag of Stories: Collection of 20+ Il...    ₹175.00\n",
       "18  Oswaal CBSE Sample Question Papers Class 10 So...    ₹302.00\n",
       "19  BRAHMASTRA Complete Maths Multicolored Formula...    ₹180.00\n",
       "20  PW Physics Med Easy Notes | Notes, Formulas, M...    ₹409.00\n",
       "21  Think And Grow Rich [Original Edition (Complet...     ₹99.00\n",
       "22  Sank Magic Practice Copybook, (4 BOOK + 10 REF...    ₹120.00\n",
       "23                                        Meditations     ₹99.00\n",
       "24                                            You Can     ₹99.00\n",
       "25  Math Concept King - All Formulas and Theorum L...    ₹149.00\n",
       "26         Diary Of A Wimpy Kid: No Brainer (Book 18)    ₹409.00\n",
       "27  Do It Today: Overcome procrastination, improve...    ₹144.00\n",
       "28            How to Win Friends and Influence People     ₹99.00\n",
       "29  Moral Story Books for Kids (Illustrated) - Eng...    ₹221.00\n",
       "30                                Welcome to Paradise    ₹286.00\n",
       "31                               THE 48 LAWS OF POWER    ₹603.00\n",
       "32                The Power of Your Subconscious Mind     ₹99.00\n",
       "33  World’s Greatest Books For Personal Growth & W...    ₹339.00\n",
       "34  Animals Tales From Panchtantra: Timeless Stori...    ₹189.00\n",
       "35  Educart CBSE Class 10 Sample Papers Bundle - S...  ₹1,165.00\n",
       "36  Trading Chart Pattern Book In Hindi | Includes...    ₹286.00\n",
       "37  My First Mythology Tale (Illustrated) (Set of ...    ₹176.00\n",
       "38  Oswaal CBSE Sample Question Papers Class 10 En...    ₹243.00\n",
       "39   THE SILENT PATIENT [Paperback] Michaelides, Alex    ₹218.00\n",
       "40  Oswaal CBSE Class 10 Science Question Bank (Fo...    ₹498.00\n",
       "41  201 Brain Booster Activity Book - Fun Activiti...    ₹109.00\n",
       "42  CGL Practice King 3000+ TCS MCQ | Chapter Wise...    ₹279.00\n",
       "43  Tuesdays With Morrie: An old man, a young man,...    ₹216.00\n",
       "44  Shlokas and Mantras - Activity Book For Kids -...    ₹149.00\n",
       "45  Oxford Student Atlas for India, Fourth Edition...    ₹240.00\n",
       "46  CBSE 20 Combined Sample Question papers Class ...    ₹336.00\n",
       "47                                      The 5 AM Club    ₹257.00\n",
       "48  Writing Practice Boxset: Pack of 4 Books (Writ...    ₹199.00\n",
       "49                    Shrimad Bhagwat Geeta Yatharoop    ₹225.00"
      ]
     },
     "execution_count": 37,
     "metadata": {},
     "output_type": "execute_result"
    }
   ],
   "source": [
    "df"
   ]
  },
  {
   "cell_type": "code",
   "execution_count": 38,
   "id": "6b47e2f5",
   "metadata": {},
   "outputs": [],
   "source": [
    "df.to_csv(\"Book_Title_Price\")"
   ]
  },
  {
   "cell_type": "markdown",
   "id": "f6f8f570",
   "metadata": {},
   "source": [
    "## scrape the top 200 movies"
   ]
  },
  {
   "cell_type": "code",
   "execution_count": 3,
   "id": "7a88318e",
   "metadata": {},
   "outputs": [],
   "source": [
    "page_url=\"https://www.boxofficemojo.com/chart/top_lifetime_gross/?area=XWW\"\n",
    "driver.get(page_url)"
   ]
  },
  {
   "cell_type": "code",
   "execution_count": 17,
   "id": "25a7375f",
   "metadata": {},
   "outputs": [],
   "source": [
    "movie_title=[]\n",
    "movie_Lifetime_Gross=[]\n",
    "\n",
    "for i in range(2,202):\n",
    "    title_xpath = f\"//*[@id='table']/div/table[2]/tbody/tr[{str(i)}]/td[2]/a\"\n",
    "    title = driver.find_element(By.XPATH, title_xpath).text\n",
    "    \n",
    "    # XPath for lifetime gross\n",
    "    gross_xpath = f\"//*[@id='table']/div/table[2]/tbody/tr[{str(i)}]/td[3]\"\n",
    "    lifetime_gross = driver.find_element(By.XPATH, gross_xpath).text\n",
    "    movie_title.append(title)\n",
    "    movie_Lifetime_Gross.append(lifetime_gross)\n"
   ]
  },
  {
   "cell_type": "code",
   "execution_count": 19,
   "id": "09db37b0",
   "metadata": {},
   "outputs": [
    {
     "data": {
      "text/plain": [
       "200"
      ]
     },
     "execution_count": 19,
     "metadata": {},
     "output_type": "execute_result"
    }
   ],
   "source": [
    "len(movie_title)"
   ]
  },
  {
   "cell_type": "code",
   "execution_count": 20,
   "id": "4d5239a7",
   "metadata": {},
   "outputs": [
    {
     "data": {
      "text/plain": [
       "200"
      ]
     },
     "execution_count": 20,
     "metadata": {},
     "output_type": "execute_result"
    }
   ],
   "source": [
    "len(movie_Lifetime_Gross)"
   ]
  },
  {
   "cell_type": "code",
   "execution_count": 21,
   "id": "a3ed6c36",
   "metadata": {},
   "outputs": [],
   "source": [
    "data={\n",
    "    'movie_title':movie_title\n",
    "    ,'movie_Lifetime_Gross':movie_Lifetime_Gross\n",
    "}"
   ]
  },
  {
   "cell_type": "code",
   "execution_count": 22,
   "id": "329446ae",
   "metadata": {},
   "outputs": [],
   "source": [
    "df=pd.DataFrame(data)"
   ]
  },
  {
   "cell_type": "code",
   "execution_count": 23,
   "id": "91984a88",
   "metadata": {},
   "outputs": [
    {
     "data": {
      "text/html": [
       "<div>\n",
       "<style scoped>\n",
       "    .dataframe tbody tr th:only-of-type {\n",
       "        vertical-align: middle;\n",
       "    }\n",
       "\n",
       "    .dataframe tbody tr th {\n",
       "        vertical-align: top;\n",
       "    }\n",
       "\n",
       "    .dataframe thead th {\n",
       "        text-align: right;\n",
       "    }\n",
       "</style>\n",
       "<table border=\"1\" class=\"dataframe\">\n",
       "  <thead>\n",
       "    <tr style=\"text-align: right;\">\n",
       "      <th></th>\n",
       "      <th>movie_title</th>\n",
       "      <th>movie_Lifetime_Gross</th>\n",
       "    </tr>\n",
       "  </thead>\n",
       "  <tbody>\n",
       "    <tr>\n",
       "      <th>0</th>\n",
       "      <td>Avatar</td>\n",
       "      <td>$2,923,706,026</td>\n",
       "    </tr>\n",
       "    <tr>\n",
       "      <th>1</th>\n",
       "      <td>Avengers: Endgame</td>\n",
       "      <td>$2,799,439,100</td>\n",
       "    </tr>\n",
       "    <tr>\n",
       "      <th>2</th>\n",
       "      <td>Avatar: The Way of Water</td>\n",
       "      <td>$2,320,250,281</td>\n",
       "    </tr>\n",
       "    <tr>\n",
       "      <th>3</th>\n",
       "      <td>Titanic</td>\n",
       "      <td>$2,264,743,305</td>\n",
       "    </tr>\n",
       "    <tr>\n",
       "      <th>4</th>\n",
       "      <td>Star Wars: Episode VII - The Force Awakens</td>\n",
       "      <td>$2,071,310,218</td>\n",
       "    </tr>\n",
       "    <tr>\n",
       "      <th>...</th>\n",
       "      <td>...</td>\n",
       "      <td>...</td>\n",
       "    </tr>\n",
       "    <tr>\n",
       "      <th>195</th>\n",
       "      <td>The Little Mermaid</td>\n",
       "      <td>$569,626,289</td>\n",
       "    </tr>\n",
       "    <tr>\n",
       "      <th>196</th>\n",
       "      <td>Kong: Skull Island</td>\n",
       "      <td>$568,652,812</td>\n",
       "    </tr>\n",
       "    <tr>\n",
       "      <th>197</th>\n",
       "      <td>Mission: Impossible - Dead Reckoning Part One</td>\n",
       "      <td>$567,535,383</td>\n",
       "    </tr>\n",
       "    <tr>\n",
       "      <th>198</th>\n",
       "      <td>The Smurfs</td>\n",
       "      <td>$563,749,323</td>\n",
       "    </tr>\n",
       "    <tr>\n",
       "      <th>199</th>\n",
       "      <td>Cars 2</td>\n",
       "      <td>$559,852,396</td>\n",
       "    </tr>\n",
       "  </tbody>\n",
       "</table>\n",
       "<p>200 rows × 2 columns</p>\n",
       "</div>"
      ],
      "text/plain": [
       "                                       movie_title movie_Lifetime_Gross\n",
       "0                                           Avatar       $2,923,706,026\n",
       "1                                Avengers: Endgame       $2,799,439,100\n",
       "2                         Avatar: The Way of Water       $2,320,250,281\n",
       "3                                          Titanic       $2,264,743,305\n",
       "4       Star Wars: Episode VII - The Force Awakens       $2,071,310,218\n",
       "..                                             ...                  ...\n",
       "195                             The Little Mermaid         $569,626,289\n",
       "196                             Kong: Skull Island         $568,652,812\n",
       "197  Mission: Impossible - Dead Reckoning Part One         $567,535,383\n",
       "198                                     The Smurfs         $563,749,323\n",
       "199                                         Cars 2         $559,852,396\n",
       "\n",
       "[200 rows x 2 columns]"
      ]
     },
     "execution_count": 23,
     "metadata": {},
     "output_type": "execute_result"
    }
   ],
   "source": [
    "df"
   ]
  },
  {
   "cell_type": "code",
   "execution_count": 24,
   "id": "239faa7e",
   "metadata": {},
   "outputs": [],
   "source": [
    "df.to_csv(\"the_top_200_movies_with_their_lifetime.csv \")"
   ]
  }
 ],
 "metadata": {
  "kernelspec": {
   "display_name": "Python 3 (ipykernel)",
   "language": "python",
   "name": "python3"
  },
  "language_info": {
   "codemirror_mode": {
    "name": "ipython",
    "version": 3
   },
   "file_extension": ".py",
   "mimetype": "text/x-python",
   "name": "python",
   "nbconvert_exporter": "python",
   "pygments_lexer": "ipython3",
   "version": "3.11.5"
  }
 },
 "nbformat": 4,
 "nbformat_minor": 5
}
